{
 "cells": [
  {
   "cell_type": "code",
   "execution_count": 1,
   "metadata": {},
   "outputs": [],
   "source": [
    "import torch\n",
    "import dlc_practical_prologue as prologue\n",
    "from importlib import reload\n",
    "reload(prologue)\n",
    "from dlc_practical_prologue import *\n",
    "import Module, modules, optimizers, helpers\n",
    "reload(Module)\n",
    "reload(modules)\n",
    "reload(helpers)\n",
    "from modules import *\n",
    "from helpers import *\n",
    "from optimizers import *\n",
    "torch.set_grad_enabled(False)\n",
    "\n",
    "train_input, train_target, train_classes, test_input, test_target, test_classes = \\\n",
    "       load_random_datasets()\n",
    "\n",
    "input = torch.Tensor([[2., 4., 6.], [1., 4., 6.], [0.5, 3., 2.], [4.3, 4., 5.],\n",
    "                      [1.3, 4.1, 6.4], [1.4, 4.1, 6.5], [5, 4., 6.]])\n",
    "target = torch.Tensor([[2], [1], [1.1], [3], [1.2], [1.21], [3.4]])\n",
    "nb_epochs = 5"
   ]
  },
  {
   "cell_type": "markdown",
   "metadata": {},
   "source": [
    "### Standalone Linear Module"
   ]
  },
  {
   "cell_type": "code",
   "execution_count": 2,
   "metadata": {},
   "outputs": [
    {
     "name": "stdout",
     "output_type": "stream",
     "text": [
      "Parameter containing:\n",
      "tensor([[-0.4593, -0.5606, -0.0493]])\n",
      "Parameter containing:\n",
      "tensor([0.8749])\n"
     ]
    }
   ],
   "source": [
    "model_lin = Linear('fc1', 3, 1)\n",
    "print_parameters_as_torch(model_lin)"
   ]
  },
  {
   "cell_type": "code",
   "execution_count": 3,
   "metadata": {},
   "outputs": [
    {
     "name": "stdout",
     "output_type": "stream",
     "text": [
      "Parameter containing:\n",
      "tensor([[-0.4593, -0.5606, -0.0493]], requires_grad=True)\n",
      "Parameter containing:\n",
      "tensor([0.8749], requires_grad=True)\n"
     ]
    }
   ],
   "source": [
    "from torch import nn\n",
    "torch.set_grad_enabled(True)\n",
    "model_lin_torch = nn.Linear(3, 1)\n",
    "set_initial_parameters(model_lin, model_lin_torch)\n",
    "for param in model_lin_torch.parameters():\n",
    "    print(param)\n",
    "del nn\n",
    "torch.set_grad_enabled(False)\n",
    "\n",
    "def hook(module, grad_input, grad_output):\n",
    "    for grad in grad_output:\n",
    "        print(\"grad_output = \", grad_output[0].t())\n",
    "        break"
   ]
  },
  {
   "cell_type": "code",
   "execution_count": 4,
   "metadata": {},
   "outputs": [
    {
     "name": "stdout",
     "output_type": "stream",
     "text": [
      "e = 0, loss = 22.67716, grad_output = tensor([[-1.3090, -0.8920, -0.6385, -1.8825, -1.0102, -1.0276, -2.1027]])\n",
      "e = 1, loss = 1.74668, grad_output = tensor([[ 0.1117,  0.4567,  0.0066, -0.4381,  0.4269,  0.4309, -0.4661]])\n",
      "e = 2, loss = 1.55039, grad_output = tensor([[ 0.0306,  0.3688, -0.0330, -0.4922,  0.3359,  0.3394, -0.5268]])\n",
      "e = 3, loss = 1.42432, grad_output = tensor([[ 0.0297,  0.3581, -0.0359, -0.4676,  0.3268,  0.3310, -0.4984]])\n",
      "e = 4, loss = 1.30902, grad_output = tensor([[ 0.0247,  0.3439, -0.0404, -0.4481,  0.3140,  0.3188, -0.4758]])\n",
      "\n",
      "e = 0, loss = 22.67716\n",
      "grad_output =  tensor([[-1.3090, -0.8920, -0.6385, -1.8825, -1.0102, -1.0276, -2.1027]])\n",
      "e = 1, loss = 1.74668\n",
      "grad_output =  tensor([[ 0.1117,  0.4567,  0.0066, -0.4381,  0.4269,  0.4309, -0.4661]])\n",
      "e = 2, loss = 1.55039\n",
      "grad_output =  tensor([[ 0.0306,  0.3688, -0.0330, -0.4922,  0.3359,  0.3394, -0.5268]])\n",
      "e = 3, loss = 1.42432\n",
      "grad_output =  tensor([[ 0.0297,  0.3581, -0.0359, -0.4676,  0.3268,  0.3310, -0.4984]])\n",
      "e = 4, loss = 1.30902\n",
      "grad_output =  tensor([[ 0.0247,  0.3439, -0.0404, -0.4481,  0.3140,  0.3188, -0.4758]])\n"
     ]
    },
    {
     "data": {
      "text/plain": [
       "<torch.autograd.grad_mode.set_grad_enabled at 0x7f9a283b7278>"
      ]
     },
     "execution_count": 4,
     "metadata": {},
     "output_type": "execute_result"
    }
   ],
   "source": [
    "criterion_lin = MSELoss()\n",
    "optimizer_lin = SGD(model_lin, lr=0.01)\n",
    "\n",
    "for e in range(nb_epochs):\n",
    "    optimizer_lin.zero_grad()\n",
    "    output_lin = model_lin(input)\n",
    "    loss_lin = criterion_lin(output_lin, target)\n",
    "    grad_output_lin = criterion_lin.backward()\n",
    "    print(\"e = {}, loss = {}, grad_output = {}\".format(e, round(loss_lin.item(), 5), grad_output_lin.t()))\n",
    "    model_lin.backward(grad_output_lin)\n",
    "    optimizer_lin.step(loss_lin)\n",
    " \n",
    "print()\n",
    "from torch import nn\n",
    "torch.set_grad_enabled(True)\n",
    "    \n",
    "model_lin_torch.register_backward_hook(hook)     \n",
    "criterion_lin_torch = nn.MSELoss()\n",
    "optimizer_lin_torch = torch.optim.SGD(model_lin_torch.parameters(), lr=0.01)\n",
    "\n",
    "for e in range(nb_epochs):\n",
    "    optimizer_lin_torch.zero_grad()\n",
    "    output_lin_torch = model_lin_torch(input)\n",
    "    loss_lin_torch = criterion_lin_torch(output_lin_torch, target)\n",
    "    print(\"e = {}, loss = {}\".format(e, round(loss_lin_torch.item(), 5)))\n",
    "    loss_lin_torch.backward()\n",
    "    optimizer_lin_torch.step()\n",
    "    \n",
    "del nn\n",
    "torch.set_grad_enabled(False)"
   ]
  },
  {
   "cell_type": "markdown",
   "metadata": {},
   "source": [
    "### Sequential Module"
   ]
  },
  {
   "cell_type": "code",
   "execution_count": 5,
   "metadata": {},
   "outputs": [
    {
     "name": "stdout",
     "output_type": "stream",
     "text": [
      "Parameter containing:\n",
      "tensor([[-0.5055, -0.5256, -0.5978],\n",
      "        [ 0.3847, -0.6245, -0.4432],\n",
      "        [-0.5773, -0.9464,  0.2816],\n",
      "        [ 0.9112, -0.0370, -0.0581],\n",
      "        [ 0.6176, -0.6392,  0.8895],\n",
      "        [-0.9584, -0.9219, -0.6092]])\n",
      "Parameter containing:\n",
      "tensor([-0.1793, -0.0232, -0.4167, -0.0853,  0.2761, -0.3865])\n",
      "Parameter containing:\n",
      "tensor([[ 0.0910,  0.5517, -0.0885, -0.4841, -0.0721,  0.1615]])\n",
      "Parameter containing:\n",
      "tensor([0.6264])\n"
     ]
    }
   ],
   "source": [
    "model_seq = Sequential(\n",
    "    Linear('fc1', 3, 6), \n",
    "    ReLU('relu'),\n",
    "    Linear('fc2', 6, 1), \n",
    "    Tanh())\n",
    "print_parameters_as_torch(model_seq)"
   ]
  },
  {
   "cell_type": "code",
   "execution_count": 6,
   "metadata": {},
   "outputs": [
    {
     "name": "stdout",
     "output_type": "stream",
     "text": [
      "Parameter containing:\n",
      "tensor([[-0.5055, -0.5256, -0.5978],\n",
      "        [ 0.3847, -0.6245, -0.4432],\n",
      "        [-0.5773, -0.9464,  0.2816],\n",
      "        [ 0.9112, -0.0370, -0.0581],\n",
      "        [ 0.6176, -0.6392,  0.8895],\n",
      "        [-0.9584, -0.9219, -0.6092]], requires_grad=True)\n",
      "Parameter containing:\n",
      "tensor([-0.1793, -0.0232, -0.4167, -0.0853,  0.2761, -0.3865],\n",
      "       requires_grad=True)\n",
      "Parameter containing:\n",
      "tensor([[ 0.0910,  0.5517, -0.0885, -0.4841, -0.0721,  0.1615]],\n",
      "       requires_grad=True)\n",
      "Parameter containing:\n",
      "tensor([0.6264], requires_grad=True)\n"
     ]
    }
   ],
   "source": [
    "import Module, modules, helpers\n",
    "reload(Module)\n",
    "reload(modules)\n",
    "reload(helpers)\n",
    "from modules import *\n",
    "from helpers import *\n",
    "\n",
    "from torch import nn\n",
    "model_seq_torch = nn.Sequential(\n",
    "    nn.Linear(3, 6),\n",
    "    nn.ReLU(),\n",
    "    nn.Linear(6, 1),\n",
    "    nn.Tanh())\n",
    "set_initial_parameters(model_seq, model_seq_torch)\n",
    "for param in model_seq_torch.parameters():\n",
    "    print(param)\n",
    "del nn"
   ]
  },
  {
   "cell_type": "code",
   "execution_count": 7,
   "metadata": {},
   "outputs": [
    {
     "name": "stdout",
     "output_type": "stream",
     "text": [
      "torch.Size([7, 1])\n",
      "e = 0, loss = 6.12547, grad_output = tensor([[-0.6504, -0.2288, -0.1767, -1.1079, -0.3291, -0.3468, -1.2401]])\n",
      "torch.Size([7, 1])\n",
      "e = 1, loss = 4.7175, grad_output = tensor([[-0.4679, -0.1149, -0.1506, -1.0112, -0.1725, -0.1816, -1.1643]])\n",
      "torch.Size([7, 1])\n",
      "e = 2, loss = 2.7998, grad_output = tensor([[-0.3443, -0.0590, -0.1388, -0.7835, -0.1107, -0.1119, -0.9055]])\n",
      "torch.Size([7, 1])\n",
      "e = 3, loss = 1.87299, grad_output = tensor([[-0.3079, -0.0286, -0.1267, -0.6358, -0.0807, -0.0821, -0.7356]])\n",
      "torch.Size([7, 1])\n",
      "e = 4, loss = 1.75919, grad_output = tensor([[-0.3021, -0.0220, -0.1221, -0.6134, -0.0747, -0.0763, -0.7148]])\n",
      "\n",
      "e = 0, loss = 6.12547\n",
      "grad_output =  tensor([[-0.6504, -0.2288, -0.1767, -1.1079, -0.3291, -0.3468, -1.2401]])\n",
      "e = 1, loss = 4.7175\n",
      "grad_output =  tensor([[-0.4679, -0.1149, -0.1506, -1.0112, -0.1725, -0.1816, -1.1643]])\n",
      "e = 2, loss = 2.7998\n",
      "grad_output =  tensor([[-0.3443, -0.0590, -0.1388, -0.7835, -0.1107, -0.1119, -0.9055]])\n",
      "e = 3, loss = 1.87299\n",
      "grad_output =  tensor([[-0.3079, -0.0286, -0.1267, -0.6358, -0.0807, -0.0821, -0.7356]])\n",
      "e = 4, loss = 1.75919\n",
      "grad_output =  tensor([[-0.3021, -0.0220, -0.1221, -0.6134, -0.0747, -0.0763, -0.7148]])\n"
     ]
    },
    {
     "data": {
      "text/plain": [
       "<torch.autograd.grad_mode.set_grad_enabled at 0x7f9a2c26cf60>"
      ]
     },
     "execution_count": 7,
     "metadata": {},
     "output_type": "execute_result"
    }
   ],
   "source": [
    "criterion_seq = MSELoss()\n",
    "optimizer_seq = SGD(model_seq, lr=0.01)\n",
    "\n",
    "for e in range(nb_epochs):\n",
    "    optimizer_seq.zero_grad()\n",
    "    output_seq = model_seq(input)\n",
    "    loss_seq = criterion_seq(output_seq, target)\n",
    "    grad_output_seq = criterion_seq.backward()\n",
    "    print(grad_output_seq.shape)\n",
    "    print(\"e = {}, loss = {}, grad_output = {}\".format(e, round(loss_seq.item(), 5), grad_output_seq.t()))\n",
    "    model_seq.backward(grad_output_seq)\n",
    "    optimizer_seq.step(loss_seq)\n",
    "\n",
    "print()\n",
    "from torch import nn\n",
    "torch.set_grad_enabled(True)\n",
    "    \n",
    "model_seq_torch.register_backward_hook(hook)     \n",
    "criterion_seq_torch = nn.MSELoss()\n",
    "optimizer_seq_torch = torch.optim.SGD(model_seq_torch.parameters(), lr=0.01)\n",
    "\n",
    "for e in range(nb_epochs):\n",
    "    optimizer_seq_torch.zero_grad()\n",
    "    output_seq_torch = model_seq_torch(input)\n",
    "    loss_seq_torch = criterion_seq_torch(output_seq_torch, target)\n",
    "    print(\"e = {}, loss = {}\".format(e, round(loss_seq_torch.item(), 5)))\n",
    "    loss_seq_torch.backward()\n",
    "    optimizer_seq_torch.step()\n",
    "    \n",
    "del nn\n",
    "torch.set_grad_enabled(False)"
   ]
  },
  {
   "cell_type": "markdown",
   "metadata": {},
   "source": [
    "### Tests on mnist-pairs data"
   ]
  },
  {
   "cell_type": "code",
   "execution_count": 8,
   "metadata": {},
   "outputs": [],
   "source": [
    "nb_hidden1 = 100\n",
    "nb_hidden2 = 40\n",
    "train_input = train_input.view(len(train_input), -1)\n",
    "train_target = train_target.type(torch.FloatTensor)\n",
    "input_size = train_input.shape[1] # 392\n",
    "nb_epochs = 100\n",
    "\n",
    "model_mnist = Sequential(\n",
    "    Linear('fc1', input_size, nb_hidden1), ReLU(),\n",
    "    Linear('fc2', nb_hidden1, nb_hidden2), Tanh(),\n",
    "    Linear('fc3', nb_hidden2, 1))\n",
    "\n",
    "from torch import nn\n",
    "model_mnist_torch = nn.Sequential(\n",
    "    nn.Linear(input_size, nb_hidden1), nn.ReLU(),\n",
    "    nn.Linear(nb_hidden1, nb_hidden2), nn.Tanh(),\n",
    "    nn.Linear(nb_hidden2, 1))\n",
    "set_initial_parameters(model_mnist, model_mnist_torch)\n",
    "del nn"
   ]
  },
  {
   "cell_type": "code",
   "execution_count": 9,
   "metadata": {},
   "outputs": [
    {
     "name": "stdout",
     "output_type": "stream",
     "text": [
      "\n"
     ]
    },
    {
     "data": {
      "text/plain": [
       "<torch.autograd.grad_mode.set_grad_enabled at 0x7f9a2c272358>"
      ]
     },
     "execution_count": 9,
     "metadata": {},
     "output_type": "execute_result"
    }
   ],
   "source": [
    "criterion_mnist = MSELoss()\n",
    "optimizer_mnist = SGD(model_mnist, lr=0.01)\n",
    "loss_history_mnist = []\n",
    "\n",
    "for e in range(nb_epochs):\n",
    "    optimizer_mnist.zero_grad()\n",
    "    output_mnist = model_mnist(train_input) # torch.Size([1000, 1])\n",
    "    loss_mnist = criterion_mnist(output_mnist.flatten(), train_target)\n",
    "    loss_history_mnist.append(loss_mnist)\n",
    "    grad_output_mnist = criterion_mnist.backward().view(-1,1)\n",
    "    #print(\"e = {}, loss = {}\".format(e, round(loss_mnist.item(), 5)))\n",
    "    model_mnist.backward(grad_output_mnist)\n",
    "    optimizer_mnist.step(loss_mnist)\n",
    "\n",
    "print()\n",
    "from torch import nn\n",
    "torch.set_grad_enabled(True)\n",
    "        \n",
    "criterion_mnist_torch = nn.MSELoss()\n",
    "optimizer_mnist_torch = torch.optim.SGD(model_mnist_torch.parameters(), lr=0.01)\n",
    "loss_history_mnist_torch = []\n",
    "\n",
    "for e in range(nb_epochs):\n",
    "    optimizer_mnist_torch.zero_grad()\n",
    "    output_mnist_torch = model_mnist_torch(train_input)\n",
    "    loss_mnist_torch = criterion_mnist_torch(output_mnist_torch, train_target)\n",
    "    loss_history_mnist_torch.append(loss_mnist_torch)\n",
    "    #print(\"e = {}, loss = {}\".format(e, round(loss_mnist_torch.item(), 5)))\n",
    "    loss_mnist_torch.backward()\n",
    "    optimizer_mnist_torch.step()\n",
    "    \n",
    "del nn\n",
    "torch.set_grad_enabled(False)"
   ]
  },
  {
   "cell_type": "code",
   "execution_count": 11,
   "metadata": {},
   "outputs": [
    {
     "data": {
      "image/png": "[encoded data removed]",
      "text/plain": [
       "<Figure size 432x288 with 1 Axes>"
      ]
     },
     "metadata": {
      "needs_background": "light"
     },
     "output_type": "display_data"
    }
   ],
   "source": [
    "import matplotlib.pyplot as plt\n",
    "plt.plot(loss_history_mnist, label='Custom DL framework')\n",
    "plt.plot(loss_history_mnist_torch, label='PyTorch')\n",
    "plt.legend()\n",
    "plt.show()"
   ]
  },
  {
   "cell_type": "code",
   "execution_count": null,
   "metadata": {},
   "outputs": [],
   "source": []
  }
 ],
 "metadata": {
  "kernelspec": {
   "display_name": "Python 3",
   "language": "python",
   "name": "python3"
  },
  "language_info": {
   "codemirror_mode": {
    "name": "ipython",
    "version": 3
   },
   "file_extension": ".py",
   "mimetype": "text/x-python",
   "name": "python",
   "nbconvert_exporter": "python",
   "pygments_lexer": "ipython3",
   "version": "3.7.1"
  }
 },
 "nbformat": 4,
 "nbformat_minor": 2
}
