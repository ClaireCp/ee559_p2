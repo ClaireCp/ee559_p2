{
 "cells": [
  {
   "cell_type": "code",
   "execution_count": 1,
   "metadata": {},
   "outputs": [],
   "source": [
    "import torch\n",
    "import dlc_practical_prologue as prologue\n",
    "from importlib import reload\n",
    "reload(prologue)\n",
    "from dlc_practical_prologue import *\n",
    "import Module, modules, optimizers, helpers\n",
    "reload(Module)\n",
    "reload(modules)\n",
    "reload(helpers)\n",
    "from modules import *\n",
    "from helpers import *\n",
    "from optimizers import *\n",
    "torch.set_grad_enabled(False)\n",
    "\n",
    "train_input, train_target, train_classes, test_input, test_target, test_classes = \\\n",
    "       load_random_datasets()\n",
    "\n",
    "input = torch.Tensor([[2., 4., 6.], [1., 4., 6.], [0.5, 3., 2.], [4.3, 4., 5.],\n",
    "                      [1.3, 4.1, 6.4], [1.4, 4.1, 6.5], [5, 4., 6.]])\n",
    "target = torch.Tensor([[2], [1], [1.1], [3], [1.2], [1.21], [3.4]])\n",
    "nb_epochs = 5"
   ]
  },
  {
   "cell_type": "markdown",
   "metadata": {},
   "source": [
    "### Standalone Linear Module"
   ]
  },
  {
   "cell_type": "code",
   "execution_count": 2,
   "metadata": {},
   "outputs": [
    {
     "name": "stdout",
     "output_type": "stream",
     "text": [
      "Parameter containing:\n",
      "tensor([[-0.4593, -0.5606, -0.0493]])\n",
      "Parameter containing:\n",
      "tensor([0.8749])\n"
     ]
    }
   ],
   "source": [
    "model_lin = Linear('fc1', 3, 1)\n",
    "print_parameters_as_torch(model_lin)"
   ]
  },
  {
   "cell_type": "code",
   "execution_count": 3,
   "metadata": {},
   "outputs": [
    {
     "name": "stdout",
     "output_type": "stream",
     "text": [
      "Parameter containing:\n",
      "tensor([[-0.4593, -0.5606, -0.0493]], requires_grad=True)\n",
      "Parameter containing:\n",
      "tensor([0.8749], requires_grad=True)\n"
     ]
    }
   ],
   "source": [
    "from torch import nn\n",
    "torch.set_grad_enabled(True)\n",
    "model_lin_torch = nn.Linear(3, 1)\n",
    "set_initial_parameters(model_lin, model_lin_torch)\n",
    "for param in model_lin_torch.parameters():\n",
    "    print(param)\n",
    "del nn\n",
    "torch.set_grad_enabled(False)\n",
    "\n",
    "def hook(module, grad_input, grad_output):\n",
    "    for grad in grad_output:\n",
    "        print(\"grad_output = \", grad_output[0].t())\n",
    "        break"
   ]
  },
  {
   "cell_type": "code",
   "execution_count": 4,
   "metadata": {},
   "outputs": [
    {
     "name": "stdout",
     "output_type": "stream",
     "text": [
      "e = 0, loss = 22.67716, grad_output = tensor([[-1.3090, -0.8920, -0.6385, -1.8825, -1.0102, -1.0276, -2.1027]])\n",
      "e = 50, loss = 0.06753, grad_output = tensor([[-0.0686,  0.0748, -0.1039, -0.0644,  0.0683,  0.0834, -0.0416]])\n",
      "e = 100, loss = 0.03252, grad_output = tensor([[-0.0833,  0.0376, -0.0835, -0.0064,  0.0309,  0.0462,  0.0113]])\n",
      "e = 150, loss = 0.02522, grad_output = tensor([[-0.0865,  0.0326, -0.0606,  0.0047,  0.0236,  0.0380,  0.0134]])\n",
      "e = 200, loss = 0.02171, grad_output = tensor([[-0.0880,  0.0314, -0.0434,  0.0093,  0.0205,  0.0342,  0.0110]])\n",
      "e = 250, loss = 0.01997, grad_output = tensor([[-0.0890,  0.0308, -0.0312,  0.0121,  0.0185,  0.0317,  0.0089]])\n",
      "\n",
      "e = 0, loss = 22.67716\n",
      "e = 50, loss = 0.06753\n",
      "e = 100, loss = 0.03252\n",
      "e = 150, loss = 0.02522\n",
      "e = 200, loss = 0.02171\n",
      "e = 250, loss = 0.01997\n"
     ]
    },
    {
     "data": {
      "text/plain": [
       "<torch.autograd.grad_mode.set_grad_enabled at 0x7f4bd8113fd0>"
      ]
     },
     "execution_count": 4,
     "metadata": {},
     "output_type": "execute_result"
    }
   ],
   "source": [
    "criterion_lin = MSELoss()\n",
    "optimizer_lin = SGD(model_lin, lr=0.01)\n",
    "nb_epochs = 300\n",
    "for e in range(nb_epochs):\n",
    "    optimizer_lin.zero_grad()\n",
    "    output_lin = model_lin(input)\n",
    "    loss_lin = criterion_lin(output_lin, target)\n",
    "    grad_output_lin = criterion_lin.backward()\n",
    "    if e % 50 == 0: print(\"e = {}, loss = {}, grad_output = {}\".format(e, round(loss_lin.item(), 5), grad_output_lin.t()))\n",
    "    model_lin.backward(grad_output_lin)\n",
    "    optimizer_lin.step(loss_lin)\n",
    " \n",
    "print()\n",
    "from torch import nn\n",
    "torch.set_grad_enabled(True)\n",
    "    \n",
    "#model_lin_torch.register_backward_hook(hook)     \n",
    "criterion_lin_torch = nn.MSELoss()\n",
    "optimizer_lin_torch = torch.optim.SGD(model_lin_torch.parameters(), lr=0.01)\n",
    "\n",
    "for e in range(nb_epochs):\n",
    "    optimizer_lin_torch.zero_grad()\n",
    "    output_lin_torch = model_lin_torch(input)\n",
    "    loss_lin_torch = criterion_lin_torch(output_lin_torch, target)\n",
    "    if e % 50 == 0: print(\"e = {}, loss = {}\".format(e, round(loss_lin_torch.item(), 5)))\n",
    "    loss_lin_torch.backward()\n",
    "    optimizer_lin_torch.step()\n",
    "    \n",
    "del nn\n",
    "torch.set_grad_enabled(False)"
   ]
  },
  {
   "cell_type": "markdown",
   "metadata": {},
   "source": [
    "### Sequential Module"
   ]
  },
  {
   "cell_type": "code",
   "execution_count": 5,
   "metadata": {},
   "outputs": [
    {
     "name": "stdout",
     "output_type": "stream",
     "text": [
      "Parameter containing:\n",
      "tensor([[-0.5055, -0.5256, -0.5978],\n",
      "        [ 0.3847, -0.6245, -0.4432],\n",
      "        [-0.5773, -0.9464,  0.2816],\n",
      "        [ 0.9112, -0.0370, -0.0581],\n",
      "        [ 0.6176, -0.6392,  0.8895],\n",
      "        [-0.9584, -0.9219, -0.6092]])\n",
      "Parameter containing:\n",
      "tensor([-0.1793, -0.0232, -0.4167, -0.0853,  0.2761, -0.3865])\n",
      "Parameter containing:\n",
      "tensor([[ 0.0910,  0.5517, -0.0885, -0.4841, -0.0721,  0.1615]])\n",
      "Parameter containing:\n",
      "tensor([0.6264])\n"
     ]
    }
   ],
   "source": [
    "model_seq = Sequential(\n",
    "    Linear('fc1', 3, 6), \n",
    "    ReLU('relu'),\n",
    "    Linear('fc2', 6, 1), \n",
    "    Tanh())\n",
    "print_parameters_as_torch(model_seq)"
   ]
  },
  {
   "cell_type": "code",
   "execution_count": 6,
   "metadata": {},
   "outputs": [
    {
     "name": "stdout",
     "output_type": "stream",
     "text": [
      "Parameter containing:\n",
      "tensor([[-0.5055, -0.5256, -0.5978],\n",
      "        [ 0.3847, -0.6245, -0.4432],\n",
      "        [-0.5773, -0.9464,  0.2816],\n",
      "        [ 0.9112, -0.0370, -0.0581],\n",
      "        [ 0.6176, -0.6392,  0.8895],\n",
      "        [-0.9584, -0.9219, -0.6092]], requires_grad=True)\n",
      "Parameter containing:\n",
      "tensor([-0.1793, -0.0232, -0.4167, -0.0853,  0.2761, -0.3865],\n",
      "       requires_grad=True)\n",
      "Parameter containing:\n",
      "tensor([[ 0.0910,  0.5517, -0.0885, -0.4841, -0.0721,  0.1615]],\n",
      "       requires_grad=True)\n",
      "Parameter containing:\n",
      "tensor([0.6264], requires_grad=True)\n"
     ]
    }
   ],
   "source": [
    "import Module, modules, helpers\n",
    "reload(Module)\n",
    "reload(modules)\n",
    "reload(helpers)\n",
    "from modules import *\n",
    "from helpers import *\n",
    "\n",
    "from torch import nn\n",
    "model_seq_torch = nn.Sequential(\n",
    "    nn.Linear(3, 6),\n",
    "    nn.ReLU(),\n",
    "    nn.Linear(6, 1),\n",
    "    nn.Tanh())\n",
    "set_initial_parameters(model_seq, model_seq_torch)\n",
    "for param in model_seq_torch.parameters():\n",
    "    print(param)\n",
    "del nn"
   ]
  },
  {
   "cell_type": "code",
   "execution_count": 7,
   "metadata": {},
   "outputs": [
    {
     "name": "stdout",
     "output_type": "stream",
     "text": [
      "e = 0, loss = 6.12547, grad_output = tensor([[-0.6504, -0.2288, -0.1767, -1.1079, -0.3291, -0.3468, -1.2401]])\n",
      "e = 50, loss = 1.57065, grad_output = tensor([[-0.2874, -0.0029, -0.0852, -0.5737, -0.0590, -0.0616, -0.6865]])\n",
      "e = 100, loss = 1.56224, grad_output = tensor([[-0.2865, -0.0014, -0.0737, -0.5723, -0.0580, -0.0607, -0.6860]])\n",
      "e = 150, loss = 1.55903, grad_output = tensor([[-0.2862, -0.0009, -0.0669, -0.5719, -0.0577, -0.0604, -0.6859]])\n",
      "e = 200, loss = 1.55727, grad_output = tensor([[-2.8603e-01, -6.3724e-04, -6.2249e-02, -5.7177e-01, -5.7499e-02,\n",
      "         -6.0299e-02, -6.8580e-01]])\n",
      "e = 250, loss = 1.55614, grad_output = tensor([[-2.8594e-01, -4.7685e-04, -5.8754e-02, -5.7167e-01, -5.7403e-02,\n",
      "         -6.0217e-02, -6.8577e-01]])\n",
      "\n",
      "e = 0, loss = 6.12547\n",
      "e = 50, loss = 1.57065\n",
      "e = 100, loss = 1.56224\n",
      "e = 150, loss = 1.55903\n",
      "e = 200, loss = 1.55727\n",
      "e = 250, loss = 1.55615\n"
     ]
    },
    {
     "data": {
      "text/plain": [
       "<torch.autograd.grad_mode.set_grad_enabled at 0x7f4bd80d54e0>"
      ]
     },
     "execution_count": 7,
     "metadata": {},
     "output_type": "execute_result"
    }
   ],
   "source": [
    "criterion_seq = MSELoss()\n",
    "optimizer_seq = SGD(model_seq, lr=0.01)\n",
    "\n",
    "for e in range(nb_epochs):\n",
    "    optimizer_seq.zero_grad()\n",
    "    output_seq = model_seq(input)\n",
    "    loss_seq = criterion_seq(output_seq, target)\n",
    "    grad_output_seq = criterion_seq.backward()\n",
    "    #print(grad_output_seq.shape)\n",
    "    if e % 50 == 0: print(\"e = {}, loss = {}, grad_output = {}\".format(e, round(loss_seq.item(), 5), grad_output_seq.t()))\n",
    "    model_seq.backward(grad_output_seq)\n",
    "    optimizer_seq.step(loss_seq)\n",
    "\n",
    "print()\n",
    "from torch import nn\n",
    "torch.set_grad_enabled(True)\n",
    "    \n",
    "#model_seq_torch.register_backward_hook(hook)     \n",
    "criterion_seq_torch = nn.MSELoss()\n",
    "optimizer_seq_torch = torch.optim.SGD(model_seq_torch.parameters(), lr=0.01)\n",
    "\n",
    "for e in range(nb_epochs):\n",
    "    optimizer_seq_torch.zero_grad()\n",
    "    output_seq_torch = model_seq_torch(input)\n",
    "    loss_seq_torch = criterion_seq_torch(output_seq_torch, target)\n",
    "    if e % 50 == 0: print(\"e = {}, loss = {}\".format(e, round(loss_seq_torch.item(), 5)))\n",
    "    loss_seq_torch.backward()\n",
    "    optimizer_seq_torch.step()\n",
    "    \n",
    "del nn\n",
    "torch.set_grad_enabled(False)"
   ]
  },
  {
   "cell_type": "markdown",
   "metadata": {},
   "source": [
    "### Sequential Module with multiple sigmoid and Binary-Cross-Entropy Loss\n",
    "Idea: check behavior of sigmoid and with multiple parameterless (same) functions without unique names"
   ]
  },
  {
   "cell_type": "code",
   "execution_count": 8,
   "metadata": {},
   "outputs": [
    {
     "name": "stdout",
     "output_type": "stream",
     "text": [
      "Parameter containing:\n",
      "tensor([[ 0.0871, -0.2809, -0.6147],\n",
      "        [ 0.8904,  0.9812, -0.3240],\n",
      "        [-0.4314,  0.6022,  0.1325],\n",
      "        [ 0.4467, -0.3703,  0.1463],\n",
      "        [ 0.5268,  0.7447,  0.5614],\n",
      "        [ 0.9037,  0.5998,  0.1722]])\n",
      "Parameter containing:\n",
      "tensor([-0.0836, -0.8084,  0.2817, -0.0101,  0.4545,  0.9739])\n",
      "Parameter containing:\n",
      "tensor([[ 0.4564,  0.0860,  0.0347, -0.0512, -0.3506,  0.2918]])\n",
      "Parameter containing:\n",
      "tensor([-0.5381])\n"
     ]
    }
   ],
   "source": [
    "model_seq_sigmoid = Sequential(\n",
    "    Linear('fc1', 3, 6), \n",
    "    Sigmoid('sig1'),\n",
    "    Linear('fc2', 6, 1), \n",
    "    Sigmoid('sig2'))\n",
    "print_parameters_as_torch(model_seq_sigmoid)"
   ]
  },
  {
   "cell_type": "code",
   "execution_count": 9,
   "metadata": {},
   "outputs": [
    {
     "name": "stdout",
     "output_type": "stream",
     "text": [
      "Parameter containing:\n",
      "tensor([[ 0.0871, -0.2809, -0.6147],\n",
      "        [ 0.8904,  0.9812, -0.3240],\n",
      "        [-0.4314,  0.6022,  0.1325],\n",
      "        [ 0.4467, -0.3703,  0.1463],\n",
      "        [ 0.5268,  0.7447,  0.5614],\n",
      "        [ 0.9037,  0.5998,  0.1722]], requires_grad=True)\n",
      "Parameter containing:\n",
      "tensor([-0.0836, -0.8084,  0.2817, -0.0101,  0.4545,  0.9739],\n",
      "       requires_grad=True)\n",
      "Parameter containing:\n",
      "tensor([[ 0.4564,  0.0860,  0.0347, -0.0512, -0.3506,  0.2918]],\n",
      "       requires_grad=True)\n",
      "Parameter containing:\n",
      "tensor([-0.5381], requires_grad=True)\n"
     ]
    }
   ],
   "source": [
    "import Module, modules, helpers\n",
    "reload(Module)\n",
    "reload(modules)\n",
    "reload(helpers)\n",
    "from modules import *\n",
    "from helpers import *\n",
    "\n",
    "from torch import nn\n",
    "model_seq_sigmoid_torch = nn.Sequential(\n",
    "    nn.Linear(3, 6),\n",
    "    nn.Sigmoid(),\n",
    "    nn.Linear(6, 1),\n",
    "    nn.Sigmoid())\n",
    "set_initial_parameters(model_seq_sigmoid, model_seq_sigmoid_torch)\n",
    "for param in model_seq_sigmoid_torch.parameters():\n",
    "    print(param)\n",
    "del nn"
   ]
  },
  {
   "cell_type": "code",
   "execution_count": 10,
   "metadata": {},
   "outputs": [
    {
     "name": "stdout",
     "output_type": "stream",
     "text": [
      "e = 0, loss = 2.99611, grad_output = tensor([[-0.4641, -0.1784, -0.2038, -0.7501, -0.2356, -0.2385, -0.8650]])\n",
      "e = 50, loss = 2.06077, grad_output = tensor([[-0.3610, -0.0773, -0.1063, -0.6454, -0.1336, -0.1363, -0.7596]])\n",
      "e = 100, loss = 1.78921, grad_output = tensor([[-0.3239, -0.0401, -0.0703, -0.6083, -0.0964, -0.0991, -0.7223]])\n",
      "e = 150, loss = 1.6985, grad_output = tensor([[-0.3102, -0.0260, -0.0565, -0.5949, -0.0825, -0.0852, -0.7089]])\n",
      "e = 200, loss = 1.6562, grad_output = tensor([[-0.3035, -0.0190, -0.0495, -0.5884, -0.0756, -0.0784, -0.7024]])\n",
      "e = 250, loss = 1.63224, grad_output = tensor([[-0.2996, -0.0149, -0.0453, -0.5846, -0.0716, -0.0744, -0.6987]])\n",
      "\n",
      "e = 0, loss = 2.99611\n",
      "e = 50, loss = 2.06077\n",
      "e = 100, loss = 1.78921\n",
      "e = 150, loss = 1.6985\n",
      "e = 200, loss = 1.6562\n",
      "e = 250, loss = 1.63224\n"
     ]
    },
    {
     "data": {
      "text/plain": [
       "<torch.autograd.grad_mode.set_grad_enabled at 0x7f4bd812c320>"
      ]
     },
     "execution_count": 10,
     "metadata": {},
     "output_type": "execute_result"
    }
   ],
   "source": [
    "criterion_seq_sigmoid = MSELoss()\n",
    "optimizer_seq_sigmoid = SGD(model_seq_sigmoid, lr=0.01)\n",
    "\n",
    "nb_epochs = 300\n",
    "for e in range(nb_epochs):\n",
    "    optimizer_seq_sigmoid.zero_grad()\n",
    "    output_seq_sigmoid = model_seq_sigmoid(input)\n",
    "    loss_seq_sigmoid = criterion_seq_sigmoid(output_seq_sigmoid, target)\n",
    "    grad_output_seq_sigmoid = criterion_seq_sigmoid.backward()\n",
    "    if e % 50 == 0: print(\"e = {}, loss = {}, grad_output = {}\".format(e, round(loss_seq_sigmoid.item(), 5), grad_output_seq_sigmoid.t()))\n",
    "    model_seq_sigmoid.backward(grad_output_seq_sigmoid)\n",
    "    optimizer_seq_sigmoid.step(loss_seq_sigmoid)\n",
    "\n",
    "print()\n",
    "from torch import nn\n",
    "torch.set_grad_enabled(True)\n",
    "        \n",
    "criterion_seq_sigmoid_torch = nn.MSELoss()\n",
    "optimizer_seq_sigmoid_torch = torch.optim.SGD(model_seq_sigmoid_torch.parameters(), lr=0.01)\n",
    "\n",
    "for e in range(nb_epochs):\n",
    "    optimizer_seq_sigmoid_torch.zero_grad()\n",
    "    output_seq_sigmoid_torch = model_seq_sigmoid_torch(input)\n",
    "    loss_seq_sigmoid_torch = criterion_seq_sigmoid_torch(output_seq_sigmoid_torch, target)\n",
    "    if e % 50 == 0: print(\"e = {}, loss = {}\".format(e, round(loss_seq_sigmoid_torch.item(), 5)))\n",
    "    loss_seq_sigmoid_torch.backward()\n",
    "    optimizer_seq_sigmoid_torch.step()\n",
    "    \n",
    "del nn\n",
    "torch.set_grad_enabled(False)"
   ]
  },
  {
   "cell_type": "code",
   "execution_count": 11,
   "metadata": {},
   "outputs": [
    {
     "name": "stdout",
     "output_type": "stream",
     "text": [
      "e = 0, loss = 0.73909, grad_output = tensor([[ 2.5906, -1.6433,  2.3305,  2.7748,  2.5608, -1.6392, -1.5278]])\n",
      "e = 50, loss = 0.67347, grad_output = tensor([[ 1.8130, -2.2114,  1.7695,  1.8540,  1.8180, -2.2246, -2.0967]])\n",
      "e = 100, loss = 0.66557, grad_output = tensor([[ 1.7970, -2.2456,  1.7025,  1.8371,  1.8018, -2.2459, -2.0662]])\n",
      "e = 150, loss = 0.65823, grad_output = tensor([[ 1.8008, -2.2465,  1.6531,  1.8230,  1.8090, -2.2302, -2.0379]])\n",
      "e = 200, loss = 0.65163, grad_output = tensor([[ 1.8104, -2.2312,  1.6115,  1.8033,  1.8260, -2.2013, -2.0288]])\n",
      "e = 250, loss = 0.645, grad_output = tensor([[ 1.8223, -2.2068,  1.5718,  1.7795,  1.8486, -2.1666, -2.0284]])\n",
      "\n",
      "e = 0, loss = 0.73909\n",
      "e = 50, loss = 0.70213\n",
      "e = 100, loss = 0.68734\n",
      "e = 150, loss = 0.68095\n",
      "e = 200, loss = 0.67784\n",
      "e = 250, loss = 0.676\n"
     ]
    },
    {
     "data": {
      "text/plain": [
       "<torch.autograd.grad_mode.set_grad_enabled at 0x7f4bd80eada0>"
      ]
     },
     "execution_count": 11,
     "metadata": {},
     "output_type": "execute_result"
    }
   ],
   "source": [
    "import Module, modules, helpers\n",
    "reload(Module)\n",
    "reload(modules)\n",
    "reload(helpers)\n",
    "from modules import *\n",
    "from helpers import *\n",
    "\n",
    "target_bce = torch.Tensor([0, 1, 0, 0, 0, 1, 1])\n",
    "\n",
    "model_seq_bce = Sequential(\n",
    "    Linear('fc1', 3, 6), \n",
    "    Sigmoid('sig1'),\n",
    "    Linear('fc2', 6, 1), \n",
    "    Sigmoid('sig2'))\n",
    "\n",
    "from torch import nn\n",
    "model_seq_bce_torch = nn.Sequential(\n",
    "    nn.Linear(3, 6),\n",
    "    nn.Sigmoid(),\n",
    "    nn.Linear(6, 1),\n",
    "    nn.Sigmoid())\n",
    "set_initial_parameters(model_seq_bce, model_seq_bce_torch)\n",
    "del nn\n",
    "\n",
    "criterion_seq_bce = BCELoss()\n",
    "optimizer_seq_bce = SGD(model_seq_bce, lr=0.01)\n",
    "\n",
    "nb_epochs = 300\n",
    "for e in range(nb_epochs):\n",
    "    optimizer_seq_bce.zero_grad()\n",
    "    output_seq_bce = model_seq_bce(input).view(-1)\n",
    "    loss_seq_bce = criterion_seq_bce(input=output_seq_bce, target=target_bce)\n",
    "    grad_output_seq_bce = criterion_seq_bce.backward().view((-1, 1))\n",
    "    if e % 50 == 0: print(\"e = {}, loss = {}, grad_output = {}\".format(e, round(loss_seq_bce.item(), 5), grad_output_seq_bce.t()))\n",
    "    model_seq_bce.backward(grad_output_seq_bce)\n",
    "    optimizer_seq_bce.step(loss_seq_bce)\n",
    "\n",
    "print()\n",
    "from torch import nn\n",
    "torch.set_grad_enabled(True)\n",
    "\n",
    "#model_seq_bce_torch.register_backward_hook(hook)\n",
    "criterion_seq_bce_torch = nn.BCELoss()\n",
    "optimizer_seq_bce_torch = torch.optim.SGD(model_seq_bce_torch.parameters(), lr=0.01)\n",
    "\n",
    "for e in range(nb_epochs):\n",
    "    optimizer_seq_bce_torch.zero_grad()\n",
    "    output_seq_bce_torch = model_seq_bce_torch(input)\n",
    "    loss_seq_bce_torch = criterion_seq_bce_torch(output_seq_bce_torch.view(-1), target_bce)\n",
    "    if e % 50 == 0: print(\"e = {}, loss = {}\".format(e, round(loss_seq_bce_torch.item(), 5)))\n",
    "    loss_seq_bce_torch.backward()\n",
    "    optimizer_seq_bce_torch.step()\n",
    "    \n",
    "del nn\n",
    "torch.set_grad_enabled(False)"
   ]
  },
  {
   "cell_type": "code",
   "execution_count": 12,
   "metadata": {},
   "outputs": [
    {
     "name": "stdout",
     "output_type": "stream",
     "text": [
      "Parameter containing:\n",
      "tensor([[-0.9623, -0.3760, -0.2283]])\n",
      "Parameter containing:\n",
      "tensor([[-0.9623, -0.3760, -0.2283]], requires_grad=True)\n",
      "e = 0, loss = 2.29588, grad_output = tensor([[ 1.0082e+00, -4.7344e+01,  1.1267e+00,  1.0011e+00,  1.0142e+00,\n",
      "         -8.0261e+01, -2.1769e+03]])\n",
      "e = 50, loss = 1.94327, grad_output = tensor([[   1.0189,  -21.9541,    1.1826,    1.0026,    1.0331,  -34.6047,\n",
      "         -852.6951]])\n",
      "e = 100, loss = 1.61959, grad_output = tensor([[   1.0418,  -10.8043,    1.2588,    1.0057,    1.0744,  -15.7804,\n",
      "         -347.1766]])\n",
      "e = 150, loss = 1.34406, grad_output = tensor([[   1.0870,   -5.8747,    1.3565,    1.0118,    1.1567,   -7.9388,\n",
      "         -151.4608]])\n",
      "e = 200, loss = 1.13462, grad_output = tensor([[  1.1645,  -3.6603,   1.4703,   1.0225,   1.2990,  -4.6000, -73.4927]])\n",
      "e = 250, loss = 0.99465, grad_output = tensor([[  1.2760,  -2.6305,   1.5877,   1.0380,   1.5045,  -3.1158, -40.7334]])\n",
      "p.grad =  tensor([[-4.5885, -4.0196, -7.2057]])\n",
      "\n",
      "e = 0, loss = 2.29588\n",
      "e = 50, loss = 2.24432\n",
      "e = 100, loss = 2.1931\n",
      "e = 150, loss = 2.14226\n",
      "e = 200, loss = 2.09182\n",
      "e = 250, loss = 2.04183\n",
      "p.grad =  tensor([[-1.0235, -1.5989, -2.4992]])\n"
     ]
    }
   ],
   "source": [
    "import Module, modules, helpers\n",
    "reload(Module)\n",
    "reload(modules)\n",
    "reload(helpers)\n",
    "from modules import *\n",
    "from helpers import *\n",
    "\n",
    "input = torch.Tensor([[2., 4., 6.], [1., 4., 6.], [0.5, 3., 2.], [4.3, 4., 5.],\n",
    "                      [1.3, 4.1, 6.4], [1.4, 4.1, 6.5], [5, 4., 6.]])\n",
    "target = torch.Tensor([[0], [1], [1], [0], [1], [1], [0]])\n",
    "model_seq_bce = Sequential(\n",
    "    Linear('fc1', 3, 1, bias=False),\n",
    "    Sigmoid())\n",
    "print_parameters_as_torch(model_seq_bce)\n",
    "\n",
    "from torch import nn\n",
    "model_seq_bce_torch = nn.Sequential(nn.Linear(3, 1, bias=False), nn.Sigmoid())\n",
    "set_initial_parameters(model_seq_bce, model_seq_bce_torch)\n",
    "for p in model_seq_bce_torch.parameters():\n",
    "    print(p)\n",
    "del nn\n",
    "\n",
    "criterion = BCELoss()\n",
    "optimizer_seq_bce = SGD(model_seq_bce, lr=0.0001)\n",
    "\n",
    "nb_epochs = 300\n",
    "for e in range(nb_epochs):\n",
    "    optimizer_seq_bce.zero_grad()\n",
    "    output_seq_bce = model_seq_bce(input).view(-1)\n",
    "    loss_seq_bce = criterion_seq_bce(input=output_seq_bce, target=target_bce)\n",
    "    grad_output_seq_bce = criterion_seq_bce.backward().view((-1, 1))\n",
    "    if e % 50 == 0: print(\"e = {}, loss = {}, grad_output = {}\".format(e, round(loss_seq_bce.item(), 5), grad_output_seq_bce.t()))\n",
    "    model_seq_bce.backward(grad_output_seq_bce)\n",
    "    optimizer_seq_bce.step(loss_seq_bce)\n",
    "\n",
    "for param_dict in model_seq_bce.param():\n",
    "    param_dict = next(param_dict)\n",
    "    for p in param_dict.values():\n",
    "        print(\"p.grad = \", p.grad.t())\n",
    "\n",
    "print()\n",
    "from torch import nn\n",
    "torch.set_grad_enabled(True)\n",
    "\n",
    "criterion_torch = nn.BCELoss()\n",
    "optimizer_seq_bce_torch = torch.optim.SGD(model_seq_bce_torch.parameters(), lr=0.0001)\n",
    "\n",
    "\n",
    "\n",
    "for e in range(nb_epochs):\n",
    "    optimizer_seq_bce_torch.zero_grad()\n",
    "    output_seq_bce_torch = model_seq_bce_torch(input)\n",
    "    loss_seq_bce_torch = criterion_seq_bce_torch(output_seq_bce_torch.view(-1), target_bce)\n",
    "    if e % 50 == 0: print(\"e = {}, loss = {}\".format(e, round(loss_seq_bce_torch.item(), 5)))\n",
    "    loss_seq_bce_torch.backward()\n",
    "    optimizer_seq_bce_torch.step()\n",
    "    \n",
    "for p in model_seq_bce_torch.parameters():\n",
    "    print(\"p.grad = \", p.grad)\n",
    "\n",
    "\n",
    "                 "
   ]
  },
  {
   "cell_type": "markdown",
   "metadata": {},
   "source": [
    "### Tests on mnist-pairs data"
   ]
  },
  {
   "cell_type": "code",
   "execution_count": 13,
   "metadata": {},
   "outputs": [
    {
     "name": "stdout",
     "output_type": "stream",
     "text": [
      "train_input.shape =  torch.Size([1000, 2, 14, 14])\n"
     ]
    }
   ],
   "source": [
    "\n",
    "#  float is a single precision (32 bit) floating point data type, double is a double precision (64 bit) floating point\n",
    "nb_hidden1 = 100\n",
    "nb_hidden2 = 40\n",
    "print(\"train_input.shape = \", train_input.shape)\n",
    "train_input = train_input.view(len(train_input), -1)\n",
    "train_target = train_target.type(torch.FloatTensor)\n",
    "test_input = test_input.view(len(train_input), -1)\n",
    "test_target = test_target.type(torch.FloatTensor)\n",
    "input_size = train_input.shape[1] # 392\n",
    "nb_epochs = 300\n",
    "\n",
    "model_mnist = Sequential(\n",
    "    Linear('fc1', input_size, nb_hidden1), ReLU(),\n",
    "    Linear('fc2', nb_hidden1, nb_hidden2), Tanh(),\n",
    "    Linear('fc3', nb_hidden2, 1))\n",
    "\n",
    "from torch import nn\n",
    "model_mnist_torch = nn.Sequential(\n",
    "    nn.Linear(input_size, nb_hidden1), nn.ReLU(),\n",
    "    nn.Linear(nb_hidden1, nb_hidden2), nn.Tanh(),\n",
    "    nn.Linear(nb_hidden2, 1))\n",
    "set_initial_parameters(model_mnist, model_mnist_torch)\n",
    "del nn"
   ]
  },
  {
   "cell_type": "code",
   "execution_count": 14,
   "metadata": {},
   "outputs": [],
   "source": [
    "def test_model(model, test_input, test_target):\n",
    "    test_output = model(test_input)\n",
    "    output_to_prediction = torch.ge(test_output, 0.5).flatten()\n",
    "    nb_correct = torch.sum(output_to_prediction == test_target.type(torch.ByteTensor)).item()\n",
    "    acc_pairs = nb_correct / len(test_input)\n",
    "    return acc_pairs"
   ]
  },
  {
   "cell_type": "code",
   "execution_count": 15,
   "metadata": {},
   "outputs": [
    {
     "name": "stdout",
     "output_type": "stream",
     "text": [
      "e = 0, test accuracy = 0.49, loss = 0.6887851357460022\n",
      "e = 40, test accuracy = 0.527, loss = 0.4702855348587036\n",
      "e = 80, test accuracy = 0.521, loss = 0.7507086396217346\n",
      "e = 120, test accuracy = 0.499, loss = 2.030029535293579\n",
      "e = 160, test accuracy = 0.515, loss = 2.0331625938415527\n",
      "e = 200, test accuracy = 0.49, loss = 10.023592948913574\n",
      "e = 240, test accuracy = 0.487, loss = 12.449797630310059\n",
      "e = 280, test accuracy = 0.483, loss = 1.1628178358078003\n",
      "\n",
      "e = 0, test accuracy = 0.49, loss = 0.6887850761413574\n",
      "e = 40, test accuracy = 0.684, loss = 0.19535726308822632\n",
      "e = 80, test accuracy = 0.716, loss = 0.15988074243068695\n",
      "e = 120, test accuracy = 0.735, loss = 0.1407870054244995\n",
      "e = 160, test accuracy = 0.742, loss = 0.12752914428710938\n",
      "e = 200, test accuracy = 0.753, loss = 0.1173262894153595\n",
      "e = 240, test accuracy = 0.75, loss = 0.10893375426530838\n",
      "e = 280, test accuracy = 0.752, loss = 0.10165887326002121\n"
     ]
    },
    {
     "data": {
      "text/plain": [
       "<torch.autograd.grad_mode.set_grad_enabled at 0x7f4bd809f6a0>"
      ]
     },
     "execution_count": 15,
     "metadata": {},
     "output_type": "execute_result"
    }
   ],
   "source": [
    "import Module, modules, helpers\n",
    "reload(Module)\n",
    "reload(modules)\n",
    "reload(helpers)\n",
    "from modules import *\n",
    "from helpers import *\n",
    "\n",
    "\n",
    "criterion_mnist = MSELoss()\n",
    "optimizer_mnist = SGD(model_mnist, lr=0.01)\n",
    "loss_history_mnist = []\n",
    "test_acc_history_mnist = []\n",
    "nb_epochs = 300\n",
    "for e in range(nb_epochs):\n",
    "    optimizer_mnist.zero_grad()\n",
    "    output_mnist = model_mnist(train_input) # torch.Size([1000, 1])\n",
    "    loss_mnist = criterion_mnist(output_mnist.flatten(), train_target)\n",
    "    loss_history_mnist.append(loss_mnist)\n",
    "    grad_output_mnist = criterion_mnist.backward().view(-1,1)\n",
    "    test_acc_mnist = test_model(model_mnist, test_input, test_target)\n",
    "    test_acc_history_mnist.append(test_acc_mnist)\n",
    "    if e % 40 == 0: print(\"e = {}, test accuracy = {}, loss = {}\".format(e, test_acc_mnist, loss_mnist))\n",
    "    #print(\"e = {}, test accuracy = {}, loss = {}\".format(e, test_acc_mnist, loss_mnist))\n",
    "    model_mnist.backward(grad_output_mnist)\n",
    "    optimizer_mnist.step(loss_mnist)\n",
    "\n",
    "print()\n",
    "from torch import nn\n",
    "torch.set_grad_enabled(True)\n",
    "def hook(module, grad_input, grad_output):\n",
    "    #print(\"grad_input = \", grad_input[0][:5].t())\n",
    "    for grad in grad_output:\n",
    "        print(\"grad_output = \", grad_output[0][:5].t())\n",
    "        break\n",
    "        \n",
    "criterion_mnist_torch = nn.MSELoss()\n",
    "optimizer_mnist_torch = torch.optim.SGD(model_mnist_torch.parameters(), lr=0.01)\n",
    "#model_mnist_torch.register_backward_hook(hook)\n",
    "loss_history_mnist_torch = []\n",
    "test_acc_history_mnist_torch = []\n",
    "\n",
    "\n",
    "for e in range(nb_epochs):\n",
    "    optimizer_mnist_torch.zero_grad()\n",
    "    output_mnist_torch = model_mnist_torch(train_input)\n",
    "    #print(\"output = \", output_mnist_torch[:5])\n",
    "    #print()\n",
    "    loss_mnist_torch = criterion_mnist_torch(output_mnist_torch.flatten(), train_target)\n",
    "    loss_history_mnist_torch.append(loss_mnist_torch)\n",
    "    test_acc_mnist_torch = test_model(model_mnist_torch, test_input, test_target)\n",
    "    test_acc_history_mnist_torch.append(test_acc_mnist_torch)\n",
    "    if e % 40 == 0: print(\"e = {}, test accuracy = {}, loss = {}\".format(e, test_acc_mnist_torch, loss_mnist_torch))\n",
    "    #print(\"e = {}, test accuracy = {}, loss = {}\".format(e, test_acc_mnist_torch, loss_mnist_torch))\n",
    "    loss_mnist_torch.backward()\n",
    "    optimizer_mnist_torch.step()\n",
    "    \n",
    "del nn\n",
    "torch.set_grad_enabled(False)"
   ]
  },
  {
   "cell_type": "code",
   "execution_count": 16,
   "metadata": {},
   "outputs": [
    {
     "data": {
      "text/plain": [
       "<Figure size 640x480 with 1 Axes>"
      ]
     },
     "metadata": {},
     "output_type": "display_data"
    }
   ],
   "source": [
    "import matplotlib.pyplot as plt\n",
    "plt.plot(loss_history_mnist, label='Custom DL framework')\n",
    "plt.plot(loss_history_mnist_torch, label='PyTorch')\n",
    "plt.legend()\n",
    "plt.show()"
   ]
  },
  {
   "cell_type": "code",
   "execution_count": 17,
   "metadata": {},
   "outputs": [
    {
     "data": {
      "image/png": "[encoded data removed]",
      "text/plain": [
       "<Figure size 432x288 with 1 Axes>"
      ]
     },
     "metadata": {
      "needs_background": "light"
     },
     "output_type": "display_data"
    }
   ],
   "source": [
    "import matplotlib.pyplot as plt\n",
    "plt.plot(test_acc_history_mnist, label='Custom DL framework')\n",
    "plt.plot(test_acc_history_mnist_torch, label='PyTorch')\n",
    "plt.legend()\n",
    "plt.show()"
   ]
  },
  {
   "cell_type": "code",
   "execution_count": null,
   "metadata": {},
   "outputs": [],
   "source": []
  }
 ],
 "metadata": {
  "kernelspec": {
   "display_name": "Python 3",
   "language": "python",
   "name": "python3"
  },
  "language_info": {
   "codemirror_mode": {
    "name": "ipython",
    "version": 3
   },
   "file_extension": ".py",
   "mimetype": "text/x-python",
   "name": "python",
   "nbconvert_exporter": "python",
   "pygments_lexer": "ipython3",
   "version": "3.7.1"
  }
 },
 "nbformat": 4,
 "nbformat_minor": 2
}
