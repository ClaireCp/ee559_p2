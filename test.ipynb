{
 "cells": [
  {
   "cell_type": "code",
   "execution_count": 1,
   "metadata": {},
   "outputs": [],
   "source": [
    "import torch\n",
    "import dlc_practical_prologue as prologue\n",
    "from importlib import reload\n",
    "reload(prologue)\n",
    "from dlc_practical_prologue import *\n",
    "import Module, modules, optimizers, helpers\n",
    "reload(Module)\n",
    "reload(modules)\n",
    "reload(helpers)\n",
    "from modules import *\n",
    "from helpers import *\n",
    "from optimizers import *\n",
    "torch.set_grad_enabled(False)\n",
    "\n",
    "train_input, train_target, train_classes, test_input, test_target, test_classes = \\\n",
    "       load_random_datasets()\n",
    "\n",
    "input = torch.Tensor([[2., 4., 6.], [1., 4., 6.], [0.5, 3., 2.], [4.3, 4., 5.],\n",
    "                      [1.3, 4.1, 6.4], [1.4, 4.1, 6.5], [5, 4., 6.]])\n",
    "target = torch.Tensor([[2], [1], [1.1], [3], [1.2], [1.21], [3.4]])\n",
    "nb_epochs = 5"
   ]
  },
  {
   "cell_type": "markdown",
   "metadata": {},
   "source": [
    "### Standalone Linear Module"
   ]
  },
  {
   "cell_type": "code",
   "execution_count": 2,
   "metadata": {},
   "outputs": [
    {
     "name": "stdout",
     "output_type": "stream",
     "text": [
      "Parameter containing:\n",
      "tensor([[-0.4593, -0.5606, -0.0493]])\n",
      "Parameter containing:\n",
      "tensor([0.8749])\n"
     ]
    }
   ],
   "source": [
    "model_lin = Linear('fc1', 3, 1)\n",
    "print_parameters_as_torch(model_lin)"
   ]
  },
  {
   "cell_type": "code",
   "execution_count": 3,
   "metadata": {},
   "outputs": [
    {
     "name": "stdout",
     "output_type": "stream",
     "text": [
      "Parameter containing:\n",
      "tensor([[-0.4593, -0.5606, -0.0493]], requires_grad=True)\n",
      "Parameter containing:\n",
      "tensor([0.8749], requires_grad=True)\n"
     ]
    }
   ],
   "source": [
    "from torch import nn\n",
    "torch.set_grad_enabled(True)\n",
    "model_lin_torch = nn.Linear(3, 1)\n",
    "set_initial_parameters(model_lin, model_lin_torch)\n",
    "for param in model_lin_torch.parameters():\n",
    "    print(param)\n",
    "del nn\n",
    "torch.set_grad_enabled(False)\n",
    "\n",
    "def hook(module, grad_input, grad_output):\n",
    "    for grad in grad_output:\n",
    "        print(\"grad_output = \", grad_output[0].t())\n",
    "        break"
   ]
  },
  {
   "cell_type": "code",
   "execution_count": 4,
   "metadata": {},
   "outputs": [
    {
     "name": "stdout",
     "output_type": "stream",
     "text": [
      "e = 0, loss = 22.67716, grad_output = tensor([[-1.3090, -0.8920, -0.6385, -1.8825, -1.0102, -1.0276, -2.1027]])\n",
      "e = 1, loss = 1.74668, grad_output = tensor([[ 0.1117,  0.4567,  0.0066, -0.4381,  0.4269,  0.4309, -0.4661]])\n",
      "e = 2, loss = 1.55039, grad_output = tensor([[ 0.0306,  0.3688, -0.0330, -0.4922,  0.3359,  0.3394, -0.5268]])\n",
      "e = 3, loss = 1.42432, grad_output = tensor([[ 0.0297,  0.3581, -0.0359, -0.4676,  0.3268,  0.3310, -0.4984]])\n",
      "e = 4, loss = 1.30902, grad_output = tensor([[ 0.0247,  0.3439, -0.0404, -0.4481,  0.3140,  0.3188, -0.4758]])\n",
      "\n",
      "e = 0, loss = 22.67716\n",
      "grad_output =  tensor([[-1.3090, -0.8920, -0.6385, -1.8825, -1.0102, -1.0276, -2.1027]])\n",
      "e = 1, loss = 1.74668\n",
      "grad_output =  tensor([[ 0.1117,  0.4567,  0.0066, -0.4381,  0.4269,  0.4309, -0.4661]])\n",
      "e = 2, loss = 1.55039\n",
      "grad_output =  tensor([[ 0.0306,  0.3688, -0.0330, -0.4922,  0.3359,  0.3394, -0.5268]])\n",
      "e = 3, loss = 1.42432\n",
      "grad_output =  tensor([[ 0.0297,  0.3581, -0.0359, -0.4676,  0.3268,  0.3310, -0.4984]])\n",
      "e = 4, loss = 1.30902\n",
      "grad_output =  tensor([[ 0.0247,  0.3439, -0.0404, -0.4481,  0.3140,  0.3188, -0.4758]])\n"
     ]
    },
    {
     "data": {
      "text/plain": [
       "<torch.autograd.grad_mode.set_grad_enabled at 0x7f839cba9be0>"
      ]
     },
     "execution_count": 4,
     "metadata": {},
     "output_type": "execute_result"
    }
   ],
   "source": [
    "criterion_lin = MSELoss()\n",
    "optimizer_lin = SGD(model_lin, lr=0.01)\n",
    "\n",
    "for e in range(nb_epochs):\n",
    "    optimizer_lin.zero_grad()\n",
    "    output_lin = model_lin(input)\n",
    "    loss_lin = criterion_lin(output_lin, target)\n",
    "    grad_output_lin = criterion_lin.backward()\n",
    "    print(\"e = {}, loss = {}, grad_output = {}\".format(e, round(loss_lin.item(), 5), grad_output_lin.t()))\n",
    "    model_lin.backward(grad_output_lin)\n",
    "    optimizer_lin.step(loss_lin)\n",
    " \n",
    "print()\n",
    "from torch import nn\n",
    "torch.set_grad_enabled(True)\n",
    "    \n",
    "model_lin_torch.register_backward_hook(hook)     \n",
    "criterion_lin_torch = nn.MSELoss()\n",
    "optimizer_lin_torch = torch.optim.SGD(model_lin_torch.parameters(), lr=0.01)\n",
    "\n",
    "for e in range(nb_epochs):\n",
    "    optimizer_lin_torch.zero_grad()\n",
    "    output_lin_torch = model_lin_torch(input)\n",
    "    loss_lin_torch = criterion_lin_torch(output_lin_torch, target)\n",
    "    print(\"e = {}, loss = {}\".format(e, round(loss_lin_torch.item(), 5)))\n",
    "    loss_lin_torch.backward()\n",
    "    optimizer_lin_torch.step()\n",
    "    \n",
    "del nn\n",
    "torch.set_grad_enabled(False)"
   ]
  },
  {
   "cell_type": "markdown",
   "metadata": {},
   "source": [
    "### Sequential Module"
   ]
  },
  {
   "cell_type": "code",
   "execution_count": 5,
   "metadata": {},
   "outputs": [
    {
     "name": "stdout",
     "output_type": "stream",
     "text": [
      "Parameter containing:\n",
      "tensor([[-0.5055, -0.5256, -0.5978],\n",
      "        [ 0.3847, -0.6245, -0.4432],\n",
      "        [-0.5773, -0.9464,  0.2816],\n",
      "        [ 0.9112, -0.0370, -0.0581],\n",
      "        [ 0.6176, -0.6392,  0.8895],\n",
      "        [-0.9584, -0.9219, -0.6092]])\n",
      "Parameter containing:\n",
      "tensor([-0.1793, -0.0232, -0.4167, -0.0853,  0.2761, -0.3865])\n",
      "Parameter containing:\n",
      "tensor([[ 0.0910,  0.5517, -0.0885, -0.4841, -0.0721,  0.1615]])\n",
      "Parameter containing:\n",
      "tensor([0.6264])\n"
     ]
    }
   ],
   "source": [
    "model_seq = Sequential(\n",
    "    Linear('fc1', 3, 6), \n",
    "    ReLU('relu'),\n",
    "    Linear('fc2', 6, 1), \n",
    "    Tanh())\n",
    "print_parameters_as_torch(model_seq)"
   ]
  },
  {
   "cell_type": "code",
   "execution_count": 6,
   "metadata": {},
   "outputs": [
    {
     "name": "stdout",
     "output_type": "stream",
     "text": [
      "Parameter containing:\n",
      "tensor([[-0.5055, -0.5256, -0.5978],\n",
      "        [ 0.3847, -0.6245, -0.4432],\n",
      "        [-0.5773, -0.9464,  0.2816],\n",
      "        [ 0.9112, -0.0370, -0.0581],\n",
      "        [ 0.6176, -0.6392,  0.8895],\n",
      "        [-0.9584, -0.9219, -0.6092]], requires_grad=True)\n",
      "Parameter containing:\n",
      "tensor([-0.1793, -0.0232, -0.4167, -0.0853,  0.2761, -0.3865],\n",
      "       requires_grad=True)\n",
      "Parameter containing:\n",
      "tensor([[ 0.0910,  0.5517, -0.0885, -0.4841, -0.0721,  0.1615]],\n",
      "       requires_grad=True)\n",
      "Parameter containing:\n",
      "tensor([0.6264], requires_grad=True)\n"
     ]
    }
   ],
   "source": [
    "import Module, modules, helpers\n",
    "reload(Module)\n",
    "reload(modules)\n",
    "reload(helpers)\n",
    "from modules import *\n",
    "from helpers import *\n",
    "\n",
    "from torch import nn\n",
    "model_seq_torch = nn.Sequential(\n",
    "    nn.Linear(3, 6),\n",
    "    nn.ReLU(),\n",
    "    nn.Linear(6, 1),\n",
    "    nn.Tanh())\n",
    "set_initial_parameters(model_seq, model_seq_torch)\n",
    "for param in model_seq_torch.parameters():\n",
    "    print(param)\n",
    "del nn"
   ]
  },
  {
   "cell_type": "code",
   "execution_count": 7,
   "metadata": {},
   "outputs": [
    {
     "name": "stdout",
     "output_type": "stream",
     "text": [
      "e = 0, loss = 6.12547, grad_output = tensor([[-0.6504, -0.2288, -0.1767, -1.1079, -0.3291, -0.3468, -1.2401]])\n",
      "e = 1, loss = 4.7175, grad_output = tensor([[-0.4679, -0.1149, -0.1506, -1.0112, -0.1725, -0.1816, -1.1643]])\n",
      "e = 2, loss = 2.7998, grad_output = tensor([[-0.3443, -0.0590, -0.1388, -0.7835, -0.1107, -0.1119, -0.9055]])\n",
      "e = 3, loss = 1.87299, grad_output = tensor([[-0.3079, -0.0286, -0.1267, -0.6358, -0.0807, -0.0821, -0.7356]])\n",
      "e = 4, loss = 1.75919, grad_output = tensor([[-0.3021, -0.0220, -0.1221, -0.6134, -0.0747, -0.0763, -0.7148]])\n",
      "\n",
      "e = 0, loss = 6.12547\n",
      "grad_output =  tensor([[-0.6504, -0.2288, -0.1767, -1.1079, -0.3291, -0.3468, -1.2401]])\n",
      "e = 1, loss = 4.7175\n",
      "grad_output =  tensor([[-0.4679, -0.1149, -0.1506, -1.0112, -0.1725, -0.1816, -1.1643]])\n",
      "e = 2, loss = 2.7998\n",
      "grad_output =  tensor([[-0.3443, -0.0590, -0.1388, -0.7835, -0.1107, -0.1119, -0.9055]])\n",
      "e = 3, loss = 1.87299\n",
      "grad_output =  tensor([[-0.3079, -0.0286, -0.1267, -0.6358, -0.0807, -0.0821, -0.7356]])\n",
      "e = 4, loss = 1.75919\n",
      "grad_output =  tensor([[-0.3021, -0.0220, -0.1221, -0.6134, -0.0747, -0.0763, -0.7148]])\n"
     ]
    },
    {
     "data": {
      "text/plain": [
       "<torch.autograd.grad_mode.set_grad_enabled at 0x7f83a2926320>"
      ]
     },
     "execution_count": 7,
     "metadata": {},
     "output_type": "execute_result"
    }
   ],
   "source": [
    "criterion_seq = MSELoss()\n",
    "optimizer_seq = SGD(model_seq, lr=0.01)\n",
    "\n",
    "for e in range(nb_epochs):\n",
    "    optimizer_seq.zero_grad()\n",
    "    output_seq = model_seq(input)\n",
    "    loss_seq = criterion_seq(output_seq, target)\n",
    "    grad_output_seq = criterion_seq.backward()\n",
    "    #print(grad_output_seq.shape)\n",
    "    print(\"e = {}, loss = {}, grad_output = {}\".format(e, round(loss_seq.item(), 5), grad_output_seq.t()))\n",
    "    model_seq.backward(grad_output_seq)\n",
    "    optimizer_seq.step(loss_seq)\n",
    "\n",
    "print()\n",
    "from torch import nn\n",
    "torch.set_grad_enabled(True)\n",
    "    \n",
    "model_seq_torch.register_backward_hook(hook)     \n",
    "criterion_seq_torch = nn.MSELoss()\n",
    "optimizer_seq_torch = torch.optim.SGD(model_seq_torch.parameters(), lr=0.01)\n",
    "\n",
    "for e in range(nb_epochs):\n",
    "    optimizer_seq_torch.zero_grad()\n",
    "    output_seq_torch = model_seq_torch(input)\n",
    "    loss_seq_torch = criterion_seq_torch(output_seq_torch, target)\n",
    "    print(\"e = {}, loss = {}\".format(e, round(loss_seq_torch.item(), 5)))\n",
    "    loss_seq_torch.backward()\n",
    "    optimizer_seq_torch.step()\n",
    "    \n",
    "del nn\n",
    "torch.set_grad_enabled(False)"
   ]
  },
  {
   "cell_type": "markdown",
   "metadata": {},
   "source": [
    "### Sequential Module with multiple sigmoid and Binary-Cross-Entropy Loss\n",
    "Idea: check behavior of sigmoid and with multiple parameterless (same) functions without unique names"
   ]
  },
  {
   "cell_type": "code",
   "execution_count": 8,
   "metadata": {},
   "outputs": [
    {
     "name": "stdout",
     "output_type": "stream",
     "text": [
      "Parameter containing:\n",
      "tensor([[ 0.0871, -0.2809, -0.6147],\n",
      "        [ 0.8904,  0.9812, -0.3240],\n",
      "        [-0.4314,  0.6022,  0.1325],\n",
      "        [ 0.4467, -0.3703,  0.1463],\n",
      "        [ 0.5268,  0.7447,  0.5614],\n",
      "        [ 0.9037,  0.5998,  0.1722]])\n",
      "Parameter containing:\n",
      "tensor([-0.0836, -0.8084,  0.2817, -0.0101,  0.4545,  0.9739])\n",
      "Parameter containing:\n",
      "tensor([[ 0.4564,  0.0860,  0.0347, -0.0512, -0.3506,  0.2918]])\n",
      "Parameter containing:\n",
      "tensor([-0.5381])\n"
     ]
    }
   ],
   "source": [
    "model_seq_sigmoid = Sequential(\n",
    "    Linear('fc1', 3, 6), \n",
    "    Sigmoid('sig1'),\n",
    "    Linear('fc2', 6, 1), \n",
    "    Sigmoid('sig2'))\n",
    "print_parameters_as_torch(model_seq_sigmoid)"
   ]
  },
  {
   "cell_type": "code",
   "execution_count": 9,
   "metadata": {},
   "outputs": [
    {
     "name": "stdout",
     "output_type": "stream",
     "text": [
      "Parameter containing:\n",
      "tensor([[ 0.0871, -0.2809, -0.6147],\n",
      "        [ 0.8904,  0.9812, -0.3240],\n",
      "        [-0.4314,  0.6022,  0.1325],\n",
      "        [ 0.4467, -0.3703,  0.1463],\n",
      "        [ 0.5268,  0.7447,  0.5614],\n",
      "        [ 0.9037,  0.5998,  0.1722]], requires_grad=True)\n",
      "Parameter containing:\n",
      "tensor([-0.0836, -0.8084,  0.2817, -0.0101,  0.4545,  0.9739],\n",
      "       requires_grad=True)\n",
      "Parameter containing:\n",
      "tensor([[ 0.4564,  0.0860,  0.0347, -0.0512, -0.3506,  0.2918]],\n",
      "       requires_grad=True)\n",
      "Parameter containing:\n",
      "tensor([-0.5381], requires_grad=True)\n"
     ]
    }
   ],
   "source": [
    "import Module, modules, helpers\n",
    "reload(Module)\n",
    "reload(modules)\n",
    "reload(helpers)\n",
    "from modules import *\n",
    "from helpers import *\n",
    "\n",
    "from torch import nn\n",
    "model_seq_sigmoid_torch = nn.Sequential(\n",
    "    nn.Linear(3, 6),\n",
    "    nn.Sigmoid(),\n",
    "    nn.Linear(6, 1),\n",
    "    nn.Sigmoid())\n",
    "set_initial_parameters(model_seq_sigmoid, model_seq_sigmoid_torch)\n",
    "for param in model_seq_sigmoid_torch.parameters():\n",
    "    print(param)\n",
    "del nn"
   ]
  },
  {
   "cell_type": "code",
   "execution_count": 10,
   "metadata": {},
   "outputs": [
    {
     "name": "stdout",
     "output_type": "stream",
     "text": [
      "e = 0, loss = 2.99611, grad_output = tensor([[-0.4641, -0.1784, -0.2038, -0.7501, -0.2356, -0.2385, -0.8650]])\n",
      "grad_ouput.shape =  torch.Size([7, 1])\n",
      "e = 1, loss = 2.97189, grad_output = tensor([[-0.4618, -0.1761, -0.2016, -0.7477, -0.2333, -0.2361, -0.8626]])\n",
      "grad_ouput.shape =  torch.Size([7, 1])\n",
      "e = 2, loss = 2.94754, grad_output = tensor([[-0.4594, -0.1738, -0.1993, -0.7453, -0.2309, -0.2338, -0.8602]])\n",
      "grad_ouput.shape =  torch.Size([7, 1])\n",
      "e = 3, loss = 2.92308, grad_output = tensor([[-0.4570, -0.1714, -0.1970, -0.7429, -0.2285, -0.2314, -0.8577]])\n",
      "grad_ouput.shape =  torch.Size([7, 1])\n",
      "e = 4, loss = 2.89856, grad_output = tensor([[-0.4545, -0.1690, -0.1947, -0.7404, -0.2261, -0.2290, -0.8552]])\n",
      "grad_ouput.shape =  torch.Size([7, 1])\n",
      "e = 5, loss = 2.87399, grad_output = tensor([[-0.4521, -0.1667, -0.1924, -0.7379, -0.2237, -0.2266, -0.8527]])\n",
      "grad_ouput.shape =  torch.Size([7, 1])\n",
      "e = 6, loss = 2.84942, grad_output = tensor([[-0.4496, -0.1643, -0.1900, -0.7354, -0.2213, -0.2242, -0.8502]])\n",
      "grad_ouput.shape =  torch.Size([7, 1])\n",
      "e = 7, loss = 2.82487, grad_output = tensor([[-0.4472, -0.1618, -0.1877, -0.7329, -0.2189, -0.2217, -0.8477]])\n",
      "grad_ouput.shape =  torch.Size([7, 1])\n",
      "e = 8, loss = 2.80038, grad_output = tensor([[-0.4447, -0.1594, -0.1853, -0.7304, -0.2164, -0.2193, -0.8452]])\n",
      "grad_ouput.shape =  torch.Size([7, 1])\n",
      "e = 9, loss = 2.77598, grad_output = tensor([[-0.4422, -0.1570, -0.1830, -0.7279, -0.2140, -0.2168, -0.8426]])\n",
      "grad_ouput.shape =  torch.Size([7, 1])\n",
      "\n",
      "e = 0, loss = 2.99611\n",
      "grad_output =  tensor([[-0.4641, -0.1784, -0.2038, -0.7501, -0.2356, -0.2385, -0.8650]])\n",
      "e = 1, loss = 2.97189\n",
      "grad_output =  tensor([[-0.4618, -0.1761, -0.2016, -0.7477, -0.2333, -0.2361, -0.8626]])\n",
      "e = 2, loss = 2.94754\n",
      "grad_output =  tensor([[-0.4594, -0.1738, -0.1993, -0.7453, -0.2309, -0.2338, -0.8602]])\n",
      "e = 3, loss = 2.92308\n",
      "grad_output =  tensor([[-0.4570, -0.1714, -0.1970, -0.7429, -0.2285, -0.2314, -0.8577]])\n",
      "e = 4, loss = 2.89856\n",
      "grad_output =  tensor([[-0.4545, -0.1690, -0.1947, -0.7404, -0.2261, -0.2290, -0.8552]])\n",
      "e = 5, loss = 2.87399\n",
      "grad_output =  tensor([[-0.4521, -0.1667, -0.1924, -0.7379, -0.2237, -0.2266, -0.8527]])\n",
      "e = 6, loss = 2.84942\n",
      "grad_output =  tensor([[-0.4496, -0.1643, -0.1900, -0.7354, -0.2213, -0.2242, -0.8502]])\n",
      "e = 7, loss = 2.82487\n",
      "grad_output =  tensor([[-0.4472, -0.1618, -0.1877, -0.7329, -0.2189, -0.2217, -0.8477]])\n",
      "e = 8, loss = 2.80038\n",
      "grad_output =  tensor([[-0.4447, -0.1594, -0.1853, -0.7304, -0.2164, -0.2193, -0.8452]])\n",
      "e = 9, loss = 2.77598\n",
      "grad_output =  tensor([[-0.4422, -0.1570, -0.1830, -0.7279, -0.2140, -0.2168, -0.8426]])\n"
     ]
    },
    {
     "data": {
      "text/plain": [
       "<torch.autograd.grad_mode.set_grad_enabled at 0x7f83a2944fd0>"
      ]
     },
     "execution_count": 10,
     "metadata": {},
     "output_type": "execute_result"
    }
   ],
   "source": [
    "criterion_seq_sigmoid = MSELoss()\n",
    "optimizer_seq_sigmoid = SGD(model_seq_sigmoid, lr=0.01)\n",
    "\n",
    "nb_epochs = 10\n",
    "for e in range(nb_epochs):\n",
    "    optimizer_seq_sigmoid.zero_grad()\n",
    "    output_seq_sigmoid = model_seq_sigmoid(input)\n",
    "    loss_seq_sigmoid = criterion_seq_sigmoid(output_seq_sigmoid, target)\n",
    "    grad_output_seq_sigmoid = criterion_seq_sigmoid.backward()\n",
    "    print(\"e = {}, loss = {}, grad_output = {}\".format(e, round(loss_seq_sigmoid.item(), 5), grad_output_seq_sigmoid.t()))\n",
    "    print(\"grad_ouput.shape = \", grad_output_seq_sigmoid.shape)\n",
    "    model_seq_sigmoid.backward(grad_output_seq_sigmoid)\n",
    "    optimizer_seq_sigmoid.step(loss_seq_sigmoid)\n",
    "\n",
    "print()\n",
    "from torch import nn\n",
    "torch.set_grad_enabled(True)\n",
    "    \n",
    "model_seq_sigmoid_torch.register_backward_hook(hook)     \n",
    "criterion_seq_sigmoid_torch = nn.MSELoss()\n",
    "optimizer_seq_sigmoid_torch = torch.optim.SGD(model_seq_sigmoid_torch.parameters(), lr=0.01)\n",
    "\n",
    "for e in range(nb_epochs):\n",
    "    optimizer_seq_sigmoid_torch.zero_grad()\n",
    "    output_seq_sigmoid_torch = model_seq_sigmoid_torch(input)\n",
    "    loss_seq_sigmoid_torch = criterion_seq_sigmoid_torch(output_seq_sigmoid_torch, target)\n",
    "    print(\"e = {}, loss = {}\".format(e, round(loss_seq_sigmoid_torch.item(), 5)))\n",
    "    loss_seq_sigmoid_torch.backward()\n",
    "    optimizer_seq_sigmoid_torch.step()\n",
    "    \n",
    "del nn\n",
    "torch.set_grad_enabled(False)"
   ]
  },
  {
   "cell_type": "code",
   "execution_count": 11,
   "metadata": {},
   "outputs": [
    {
     "name": "stdout",
     "output_type": "stream",
     "text": [
      "e = 0, loss = 0.73909, grad_output = tensor([[ 2.5906, -1.6433,  2.3305,  2.7748,  2.5608, -1.6392, -1.5278]])\n",
      "e = 1, loss = 0.73136, grad_output = tensor([[ 2.5178, -1.6716,  2.2855,  2.6837,  2.4928, -1.6686, -1.5576]])\n",
      "e = 2, loss = 0.72465, grad_output = tensor([[ 2.4533, -1.6991,  2.2450,  2.6036,  2.4324, -1.6971, -1.5867]])\n",
      "e = 3, loss = 0.7188, grad_output = tensor([[ 2.3959, -1.7257,  2.2082,  2.5329,  2.3784, -1.7247, -1.6148]])\n",
      "e = 4, loss = 0.71371, grad_output = tensor([[ 2.3446, -1.7513,  2.1749,  2.4702,  2.3300, -1.7513, -1.6420]])\n",
      "e = 5, loss = 0.70925, grad_output = tensor([[ 2.2986, -1.7761,  2.1446,  2.4144,  2.2864, -1.7770, -1.6683]])\n",
      "e = 6, loss = 0.70536, grad_output = tensor([[ 2.2571, -1.7999,  2.1169,  2.3644,  2.2471, -1.8017, -1.6936]])\n",
      "e = 7, loss = 0.70195, grad_output = tensor([[ 2.2197, -1.8227,  2.0916,  2.3196,  2.2115, -1.8255, -1.7179]])\n",
      "e = 8, loss = 0.69896, grad_output = tensor([[ 2.1859, -1.8447,  2.0684,  2.2793,  2.1792, -1.8483, -1.7412]])\n",
      "e = 9, loss = 0.69634, grad_output = tensor([[ 2.1552, -1.8657,  2.0471,  2.2429,  2.1499, -1.8701, -1.7635]])\n",
      "\n",
      "e = 0, loss = 0.69099\n",
      "grad_output =  tensor([[ 0.2711, -0.2995,  0.2830,  0.2727,  0.2719, -0.3013, -0.2983]])\n",
      "e = 1, loss = 0.69093\n",
      "grad_output =  tensor([[ 0.2710, -0.2997,  0.2828,  0.2726,  0.2718, -0.3015, -0.2984]])\n",
      "e = 2, loss = 0.69088\n",
      "grad_output =  tensor([[ 0.2708, -0.2998,  0.2827,  0.2725,  0.2717, -0.3016, -0.2985]])\n",
      "e = 3, loss = 0.69083\n",
      "grad_output =  tensor([[ 0.2707, -0.3000,  0.2825,  0.2724,  0.2715, -0.3018, -0.2987]])\n",
      "e = 4, loss = 0.69077\n",
      "grad_output =  tensor([[ 0.2706, -0.3001,  0.2824,  0.2722,  0.2714, -0.3019, -0.2988]])\n",
      "e = 5, loss = 0.69072\n",
      "grad_output =  tensor([[ 0.2705, -0.3003,  0.2822,  0.2721,  0.2713, -0.3021, -0.2989]])\n",
      "e = 6, loss = 0.69067\n",
      "grad_output =  tensor([[ 0.2704, -0.3004,  0.2821,  0.2720,  0.2712, -0.3022, -0.2991]])\n",
      "e = 7, loss = 0.69061\n",
      "grad_output =  tensor([[ 0.2702, -0.3006,  0.2820,  0.2719,  0.2710, -0.3024, -0.2992]])\n",
      "e = 8, loss = 0.69056\n",
      "grad_output =  tensor([[ 0.2701, -0.3007,  0.2818,  0.2718,  0.2709, -0.3025, -0.2993]])\n",
      "e = 9, loss = 0.69051\n",
      "grad_output =  tensor([[ 0.2700, -0.3009,  0.2817,  0.2717,  0.2708, -0.3027, -0.2994]])\n"
     ]
    },
    {
     "data": {
      "text/plain": [
       "<torch.autograd.grad_mode.set_grad_enabled at 0x7f83a2939a90>"
      ]
     },
     "execution_count": 11,
     "metadata": {},
     "output_type": "execute_result"
    }
   ],
   "source": [
    "target_bce = torch.Tensor([0, 1, 0, 0, 0, 1, 1])\n",
    "\n",
    "model_seq_bce = Sequential(\n",
    "    Linear('fc1', 3, 6), \n",
    "    Sigmoid('sig1'),\n",
    "    Linear('fc2', 6, 1), \n",
    "    Sigmoid('sig2'))\n",
    "\n",
    "from torch import nn\n",
    "model_seq_bce_torch = nn.Sequential(\n",
    "    nn.Linear(3, 6),\n",
    "    nn.Sigmoid(),\n",
    "    nn.Linear(6, 1),\n",
    "    nn.Sigmoid())\n",
    "set_initial_parameters(model_seq_sigmoid, model_seq_sigmoid_torch)\n",
    "del nn\n",
    "\n",
    "criterion_seq_bce = BCELoss()\n",
    "optimizer_seq_bce = SGD(model_seq_bce, lr=0.01)\n",
    "\n",
    "nb_epochs = 10\n",
    "for e in range(nb_epochs):\n",
    "    optimizer_seq_bce.zero_grad()\n",
    "    output_seq_bce = model_seq_bce(input).view(-1)\n",
    "    loss_seq_bce = criterion_seq_bce(input=output_seq_bce, target=target_bce)\n",
    "    grad_output_seq_bce = criterion_seq_bce.backward().view((-1, 1))\n",
    "    print(\"e = {}, loss = {}, grad_output = {}\".format(e, round(loss_seq_bce.item(), 5), grad_output_seq_bce.t()))\n",
    "    model_seq_bce.backward(grad_output_seq_bce)\n",
    "    optimizer_seq_bce.step(loss_seq_bce)\n",
    "\n",
    "print()\n",
    "from torch import nn\n",
    "torch.set_grad_enabled(True)\n",
    "\n",
    "model_seq_bce_torch.register_backward_hook(hook)\n",
    "criterion_seq_bce_torch = nn.BCELoss()\n",
    "optimizer_seq_bce_torch = torch.optim.SGD(model_seq_bce_torch.parameters(), lr=0.01)\n",
    "\n",
    "for e in range(nb_epochs):\n",
    "    optimizer_seq_bce_torch.zero_grad()\n",
    "    output_seq_bce_torch = model_seq_bce_torch(input)\n",
    "    loss_seq_bce_torch = criterion_seq_bce_torch(output_seq_bce_torch.view(-1), target_bce)\n",
    "    print(\"e = {}, loss = {}\".format(e, round(loss_seq_bce_torch.item(), 5)))\n",
    "    loss_seq_bce_torch.backward()\n",
    "    optimizer_seq_bce_torch.step()\n",
    "    \n",
    "del nn\n",
    "torch.set_grad_enabled(False)"
   ]
  },
  {
   "cell_type": "code",
   "execution_count": 12,
   "metadata": {},
   "outputs": [
    {
     "name": "stdout",
     "output_type": "stream",
     "text": [
      "Parameter containing:\n",
      "tensor([[-0.9623, -0.3760, -0.2283]])\n",
      "\n",
      "output =  tensor([[0.0082, 0.0211, 0.1125, 0.0011, 0.0140, 0.0125, 0.0005]])\n",
      "grad_output =  tensor([[  1.0082, -47.3441,  -8.8916,   1.0011, -71.3648, -80.2612,   1.0005]])\n",
      "p.grad =  tensor([[ -4.0635, -14.6305, -20.3202]])\n",
      "\n",
      "\n",
      "grad_output =  tensor([[  0.1440,  -6.7634,  -1.2702,   0.1430, -10.1950, -11.4659,   0.1429]])\n",
      "p.grad =  tensor([[-0.5805, -2.0901, -2.9029]])\n"
     ]
    }
   ],
   "source": [
    "import Module, modules, helpers\n",
    "reload(Module)\n",
    "reload(modules)\n",
    "reload(helpers)\n",
    "from modules import *\n",
    "from helpers import *\n",
    "\n",
    "input = torch.Tensor([[2., 4., 6.], [1., 4., 6.], [0.5, 3., 2.], [4.3, 4., 5.],\n",
    "                      [1.3, 4.1, 6.4], [1.4, 4.1, 6.5], [5, 4., 6.]])\n",
    "target = torch.Tensor([[0], [1], [1], [0], [1], [1], [0]])\n",
    "model_lin = Sequential(\n",
    "    Linear('fc1', 3, 1, bias=False),\n",
    "    Sigmoid())\n",
    "\n",
    "print_parameters_as_torch(model_lin)\n",
    "print()\n",
    "criterion = BCELoss()\n",
    "output = model_lin(input)\n",
    "print(\"output = \", output.t())\n",
    "loss = criterion(output.view(-1), target.view(-1))\n",
    "#print(\"loss = \", loss)\n",
    "\n",
    "grad_output = criterion.backward().view((-1, 1))\n",
    "print(\"grad_output = \", grad_output.t())\n",
    "grad_input = model_lin.backward(grad_output)\n",
    "#print(\"grad_input (grad of loss wrt to model output) = \", grad_input.t())\n",
    "for param_dict in model_lin.param():\n",
    "    param_dict = next(param_dict)\n",
    "    for p in param_dict.values():\n",
    "        print(\"p.grad = \", p.grad.t())\n",
    "\n",
    "print()\n",
    "from torch import nn\n",
    "torch.set_grad_enabled(True)\n",
    "\n",
    "criterion_torch = nn.BCELoss()\n",
    "model_torch = nn.Sequential(nn.Linear(3, 1, bias=False), nn.Sigmoid())\n",
    "model_torch.register_backward_hook(hook)\n",
    "set_initial_parameters(model_lin, model_torch)\n",
    "#for p in model_torch.parameters():\n",
    "    #print(p)\n",
    "print()   \n",
    "output = model_torch(input)\n",
    "#print(\"output = \", output.t().data)\n",
    "loss = criterion(output.view(-1), target.view(-1))\n",
    "#print(\"loss = \", loss.item())\n",
    "loss.backward()\n",
    "for p in model_torch.parameters():\n",
    "    print(\"p.grad = \", p.grad)\n",
    "\n",
    "\n",
    "                 "
   ]
  },
  {
   "cell_type": "markdown",
   "metadata": {},
   "source": [
    "### Tests on mnist-pairs data"
   ]
  },
  {
   "cell_type": "code",
   "execution_count": 13,
   "metadata": {},
   "outputs": [],
   "source": [
    "torch.set_default_tensor_type(torch.FloatTensor)\n",
    "#  float is a single precision (32 bit) floating point data type, double is a double precision (64 bit) floating point\n",
    "nb_hidden1 = 20\n",
    "nb_hidden2 = 10\n",
    "train_input = train_input.view(len(train_input), -1)\n",
    "train_target = train_target.type(torch.FloatTensor)\n",
    "test_input = test_input.view(len(train_input), -1)\n",
    "test_target = test_target.type(torch.FloatTensor)\n",
    "input_size = train_input.shape[1] # 392\n",
    "nb_epochs = 300\n",
    "\n",
    "model_mnist = Sequential(\n",
    "    Linear('fc1', input_size, nb_hidden1), ReLU(),\n",
    "    Linear('fc2', nb_hidden1, nb_hidden2), Tanh(),\n",
    "    Linear('fc3', nb_hidden2, 1))\n",
    "\n",
    "from torch import nn\n",
    "model_mnist_torch = nn.Sequential(\n",
    "    nn.Linear(input_size, nb_hidden1), nn.ReLU(),\n",
    "    nn.Linear(nb_hidden1, nb_hidden2), nn.Tanh(),\n",
    "    nn.Linear(nb_hidden2, 1))\n",
    "set_initial_parameters(model_mnist, model_mnist_torch)\n",
    "del nn"
   ]
  },
  {
   "cell_type": "code",
   "execution_count": 14,
   "metadata": {},
   "outputs": [],
   "source": [
    "def test_model(model, test_input, test_target):\n",
    "    test_output = model(test_input)\n",
    "    output_to_prediction = torch.ge(torch.sigmoid(test_output), 0.5).flatten()\n",
    "    nb_correct = torch.sum(output_to_prediction == test_target.type(torch.ByteTensor)).item()\n",
    "    acc_pairs = nb_correct / len(test_input)\n",
    "    return acc_pairs"
   ]
  },
  {
   "cell_type": "code",
   "execution_count": 15,
   "metadata": {},
   "outputs": [
    {
     "name": "stdout",
     "output_type": "stream",
     "text": [
      "e = 0, test accuracy = 0.508\n",
      "e = 40, test accuracy = 0.514\n",
      "e = 80, test accuracy = 0.529\n",
      "e = 120, test accuracy = 0.548\n",
      "e = 160, test accuracy = 0.553\n",
      "e = 200, test accuracy = 0.516\n",
      "e = 240, test accuracy = 0.513\n",
      "e = 280, test accuracy = 0.524\n",
      "\n",
      "e = 0, test accuracy = 0.508\n",
      "e = 40, test accuracy = 0.526\n",
      "e = 80, test accuracy = 0.526\n",
      "e = 120, test accuracy = 0.526\n",
      "e = 160, test accuracy = 0.526\n",
      "e = 200, test accuracy = 0.526\n",
      "e = 240, test accuracy = 0.526\n",
      "e = 280, test accuracy = 0.526\n"
     ]
    },
    {
     "data": {
      "text/plain": [
       "<torch.autograd.grad_mode.set_grad_enabled at 0x7f83a28e9eb8>"
      ]
     },
     "execution_count": 15,
     "metadata": {},
     "output_type": "execute_result"
    }
   ],
   "source": [
    "criterion_mnist = MSELoss()\n",
    "optimizer_mnist = SGD(model_mnist, lr=0.01)\n",
    "loss_history_mnist = []\n",
    "test_acc_history_mnist = []\n",
    "\n",
    "for e in range(nb_epochs):\n",
    "    optimizer_mnist.zero_grad()\n",
    "    output_mnist = model_mnist(train_input) # torch.Size([1000, 1])\n",
    "    loss_mnist = criterion_mnist(output_mnist.flatten(), train_target)\n",
    "    loss_history_mnist.append(loss_mnist)\n",
    "    grad_output_mnist = criterion_mnist.backward().view(-1,1)\n",
    "    test_acc_mnist = test_model(model_mnist, test_input, test_target)\n",
    "    test_acc_history_mnist.append(test_acc_mnist)\n",
    "    if e % 40 == 0: print(\"e = {}, test accuracy = {}\".format(e, test_acc_mnist))\n",
    "    model_mnist.backward(grad_output_mnist)\n",
    "    optimizer_mnist.step(loss_mnist)\n",
    "\n",
    "print()\n",
    "from torch import nn\n",
    "torch.set_grad_enabled(True)\n",
    "        \n",
    "criterion_mnist_torch = nn.MSELoss()\n",
    "optimizer_mnist_torch = torch.optim.SGD(model_mnist_torch.parameters(), lr=0.01)\n",
    "loss_history_mnist_torch = []\n",
    "test_acc_history_mnist_torch = []\n",
    "\n",
    "for e in range(nb_epochs):\n",
    "    optimizer_mnist_torch.zero_grad()\n",
    "    output_mnist_torch = model_mnist_torch(train_input)\n",
    "    loss_mnist_torch = criterion_mnist_torch(output_mnist_torch, train_target)\n",
    "    loss_history_mnist_torch.append(loss_mnist_torch)\n",
    "    test_acc_mnist_torch = test_model(model_mnist_torch, test_input, test_target)\n",
    "    test_acc_history_mnist_torch.append(test_acc_mnist_torch)\n",
    "    if e % 40 == 0: print(\"e = {}, test accuracy = {}\".format(e, test_acc_mnist_torch))\n",
    "    loss_mnist_torch.backward()\n",
    "    optimizer_mnist_torch.step()\n",
    "    \n",
    "del nn\n",
    "torch.set_grad_enabled(False)"
   ]
  },
  {
   "cell_type": "code",
   "execution_count": 16,
   "metadata": {},
   "outputs": [
    {
     "data": {
      "text/plain": [
       "<Figure size 640x480 with 1 Axes>"
      ]
     },
     "metadata": {},
     "output_type": "display_data"
    }
   ],
   "source": [
    "import matplotlib.pyplot as plt\n",
    "plt.plot(loss_history_mnist, label='Custom DL framework')\n",
    "plt.plot(loss_history_mnist_torch, label='PyTorch')\n",
    "plt.legend()\n",
    "plt.show()"
   ]
  },
  {
   "cell_type": "code",
   "execution_count": 17,
   "metadata": {},
   "outputs": [
    {
     "data": {
      "image/png": "[encoded data removed]",
      "text/plain": [
       "<Figure size 432x288 with 1 Axes>"
      ]
     },
     "metadata": {
      "needs_background": "light"
     },
     "output_type": "display_data"
    }
   ],
   "source": [
    "import matplotlib.pyplot as plt\n",
    "plt.plot(test_acc_history_mnist, label='Custom DL framework')\n",
    "plt.plot(test_acc_history_mnist_torch, label='PyTorch')\n",
    "plt.legend()\n",
    "plt.show()"
   ]
  },
  {
   "cell_type": "code",
   "execution_count": null,
   "metadata": {},
   "outputs": [],
   "source": []
  }
 ],
 "metadata": {
  "kernelspec": {
   "display_name": "Python 3",
   "language": "python",
   "name": "python3"
  },
  "language_info": {
   "codemirror_mode": {
    "name": "ipython",
    "version": 3
   },
   "file_extension": ".py",
   "mimetype": "text/x-python",
   "name": "python",
   "nbconvert_exporter": "python",
   "pygments_lexer": "ipython3",
   "version": "3.7.1"
  }
 },
 "nbformat": 4,
 "nbformat_minor": 2
}
